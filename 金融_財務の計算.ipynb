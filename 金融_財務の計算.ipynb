{
 "cells": [
  {
   "cell_type": "code",
   "execution_count": 1,
   "id": "2555afb3-ad5e-4bfd-bd1c-2a6101e8a4a2",
   "metadata": {},
   "outputs": [],
   "source": [
    "# 金融・財務関連の計算式\n",
    "\n",
    "# library\n",
    "import os\n",
    "import numpy as np\n",
    "import numpy_financial as npf\n",
    "import pandas as pd\n",
    "import matplotlib.pyplot as plt\n",
    "import seaborn as sns"
   ]
  },
  {
   "cell_type": "code",
   "execution_count": 2,
   "id": "fcf54537-9f8d-44b2-9f8d-f55c9c6115d1",
   "metadata": {},
   "outputs": [],
   "source": [
    "df = pd.read_csv('./data/finance_value.csv')  #  データ・セット"
   ]
  },
  {
   "cell_type": "code",
   "execution_count": 3,
   "id": "e0220520-f967-40ff-978a-00c27b5ead80",
   "metadata": {},
   "outputs": [
    {
     "data": {
      "text/html": [
       "<div>\n",
       "<style scoped>\n",
       "    .dataframe tbody tr th:only-of-type {\n",
       "        vertical-align: middle;\n",
       "    }\n",
       "\n",
       "    .dataframe tbody tr th {\n",
       "        vertical-align: top;\n",
       "    }\n",
       "\n",
       "    .dataframe thead th {\n",
       "        text-align: right;\n",
       "    }\n",
       "</style>\n",
       "<table border=\"1\" class=\"dataframe\">\n",
       "  <thead>\n",
       "    <tr style=\"text-align: right;\">\n",
       "      <th></th>\n",
       "      <th>Rate</th>\n",
       "      <th>Nper</th>\n",
       "      <th>Pmt</th>\n",
       "      <th>Pv</th>\n",
       "    </tr>\n",
       "  </thead>\n",
       "  <tbody>\n",
       "    <tr>\n",
       "      <th>0</th>\n",
       "      <td>0.06</td>\n",
       "      <td>60</td>\n",
       "      <td>-200</td>\n",
       "      <td>10000</td>\n",
       "    </tr>\n",
       "  </tbody>\n",
       "</table>\n",
       "</div>"
      ],
      "text/plain": [
       "   Rate  Nper  Pmt     Pv\n",
       "0  0.06    60 -200  10000"
      ]
     },
     "execution_count": 3,
     "metadata": {},
     "output_type": "execute_result"
    }
   ],
   "source": [
    "df"
   ]
  },
  {
   "cell_type": "code",
   "execution_count": 4,
   "id": "809bec07-a4dd-47a2-a31d-b6dec27bd07e",
   "metadata": {},
   "outputs": [],
   "source": [
    "d_rate = df['Rate']"
   ]
  },
  {
   "cell_type": "code",
   "execution_count": 5,
   "id": "b791a4af-299e-4642-954b-c768fe39499e",
   "metadata": {},
   "outputs": [],
   "source": [
    "d_nper = df['Nper']"
   ]
  },
  {
   "cell_type": "code",
   "execution_count": 6,
   "id": "c58fd175-cb48-4e27-9c22-326b91b62984",
   "metadata": {},
   "outputs": [],
   "source": [
    "d_pmt = df['Pmt']"
   ]
  },
  {
   "cell_type": "code",
   "execution_count": 7,
   "id": "e44f339d-8e03-4a21-8244-c25235cac38b",
   "metadata": {},
   "outputs": [],
   "source": [
    "d_pv = df['Pv']"
   ]
  },
  {
   "cell_type": "code",
   "execution_count": 8,
   "id": "a395c231-f4e9-4515-8fef-9a9ac822b08a",
   "metadata": {},
   "outputs": [
    {
     "name": "stdout",
     "output_type": "stream",
     "text": [
      "[465.50457648]\n"
     ]
    }
   ],
   "source": [
    "# 将来の投資価値の計算\n",
    "print(npf.fv(rate=np.divide(d_rate, 12), nper=d_nper, pmt=d_pmt, pv=d_pv))"
   ]
  },
  {
   "cell_type": "code",
   "execution_count": 9,
   "id": "755f1b3d-a0a3-4e63-8385-8537458d1efb",
   "metadata": {},
   "outputs": [
    {
     "name": "stdout",
     "output_type": "stream",
     "text": [
      "[0.06]\n"
     ]
    }
   ],
   "source": [
    "print(npf.rate(nper=d_nper, pmt=d_pmt, pv=d_pv, fv=465.50447648) * 12)  # 将来価値が465.50477648とした場合"
   ]
  },
  {
   "cell_type": "code",
   "execution_count": 10,
   "id": "e6d20d4a-b7eb-4868-b4e7-f04e1178f75d",
   "metadata": {},
   "outputs": [],
   "source": [
    "# 実効年利の計算\n",
    "nper = d_nper"
   ]
  },
  {
   "cell_type": "code",
   "execution_count": 11,
   "id": "414c68ec-6a11-4903-83e0-3aaa2b3c8f01",
   "metadata": {},
   "outputs": [],
   "source": [
    "effect = (1 + np.divide(d_rate, nper)) ** d_nper - 1"
   ]
  },
  {
   "cell_type": "code",
   "execution_count": 12,
   "id": "330e447c-efb9-44cf-8634-92a85e3c71aa",
   "metadata": {},
   "outputs": [
    {
     "data": {
      "text/plain": [
       "0    0.061805\n",
       "dtype: float64"
      ]
     },
     "execution_count": 12,
     "metadata": {},
     "output_type": "execute_result"
    }
   ],
   "source": [
    "effect"
   ]
  },
  {
   "cell_type": "code",
   "execution_count": 13,
   "id": "57d34625-9e31-4359-a4e6-f2ebf5b0d2d3",
   "metadata": {},
   "outputs": [
    {
     "name": "stdout",
     "output_type": "stream",
     "text": [
      "実効年利:  0    0.061805\n",
      "dtype: float64\n"
     ]
    }
   ],
   "source": [
    "print('実効年利: ', effect)"
   ]
  },
  {
   "cell_type": "code",
   "execution_count": 14,
   "id": "4dcf2586-ef46-4c8b-b9ae-da4b189dea99",
   "metadata": {},
   "outputs": [],
   "source": [
    "# IRR\n",
    "df_cashflow = pd.read_csv('./data/cash_flow.csv')"
   ]
  },
  {
   "cell_type": "code",
   "execution_count": 15,
   "id": "8ea9732c-2d31-430c-8d0c-2297bebcacd9",
   "metadata": {},
   "outputs": [
    {
     "data": {
      "text/html": [
       "<div>\n",
       "<style scoped>\n",
       "    .dataframe tbody tr th:only-of-type {\n",
       "        vertical-align: middle;\n",
       "    }\n",
       "\n",
       "    .dataframe tbody tr th {\n",
       "        vertical-align: top;\n",
       "    }\n",
       "\n",
       "    .dataframe thead th {\n",
       "        text-align: right;\n",
       "    }\n",
       "</style>\n",
       "<table border=\"1\" class=\"dataframe\">\n",
       "  <thead>\n",
       "    <tr style=\"text-align: right;\">\n",
       "      <th></th>\n",
       "      <th>id</th>\n",
       "      <th>cashflow</th>\n",
       "    </tr>\n",
       "  </thead>\n",
       "  <tbody>\n",
       "    <tr>\n",
       "      <th>0</th>\n",
       "      <td>0</td>\n",
       "      <td>-4000</td>\n",
       "    </tr>\n",
       "    <tr>\n",
       "      <th>1</th>\n",
       "      <td>1</td>\n",
       "      <td>5000</td>\n",
       "    </tr>\n",
       "    <tr>\n",
       "      <th>2</th>\n",
       "      <td>2</td>\n",
       "      <td>8000</td>\n",
       "    </tr>\n",
       "    <tr>\n",
       "      <th>3</th>\n",
       "      <td>3</td>\n",
       "      <td>12000</td>\n",
       "    </tr>\n",
       "  </tbody>\n",
       "</table>\n",
       "</div>"
      ],
      "text/plain": [
       "   id  cashflow\n",
       "0   0     -4000\n",
       "1   1      5000\n",
       "2   2      8000\n",
       "3   3     12000"
      ]
     },
     "execution_count": 15,
     "metadata": {},
     "output_type": "execute_result"
    }
   ],
   "source": [
    "df_cashflow"
   ]
  },
  {
   "cell_type": "code",
   "execution_count": 16,
   "id": "62369c4c-8e15-49f2-b5da-0739494a7800",
   "metadata": {},
   "outputs": [],
   "source": [
    "IRR = npf.irr(df_cashflow['cashflow'])  # np.irrで内部収益率が計算出来る"
   ]
  },
  {
   "cell_type": "code",
   "execution_count": 17,
   "id": "0bf78994-a766-447b-a26e-11d92ace6660",
   "metadata": {},
   "outputs": [
    {
     "name": "stdout",
     "output_type": "stream",
     "text": [
      "IRR(内部収益率):  1.5176707510192329\n"
     ]
    }
   ],
   "source": [
    "print('IRR(内部収益率): ',IRR)"
   ]
  },
  {
   "cell_type": "code",
   "execution_count": 18,
   "id": "768e074c-068d-40b6-8113-0f2d208e105a",
   "metadata": {},
   "outputs": [
    {
     "data": {
      "text/plain": [
       "'\\n1年間運用して4%の複利を得て、追加で100万円の元本を積立した場合\\nprincipal = 100  # 元本\\ncompound_interest = 0.04  # 複利\\n# tsumitate = 100\\naccumulation = 100  #  積立\\n'"
      ]
     },
     "execution_count": 18,
     "metadata": {},
     "output_type": "execute_result"
    }
   ],
   "source": [
    "# 複利の計算\n",
    "\"\"\"\n",
    "1年間運用して4%の複利を得て、追加で100万円の元本を積立した場合\n",
    "principal = 100  # 元本\n",
    "compound_interest = 0.04  # 複利\n",
    "# tsumitate = 100\n",
    "accumulation = 100  #  積立\n",
    "\"\"\""
   ]
  },
  {
   "cell_type": "code",
   "execution_count": 19,
   "id": "28b0f129-031c-4a3f-8fd9-f8b090e57a3d",
   "metadata": {},
   "outputs": [],
   "source": [
    "df_principal = pd.read_csv('./data/principal.csv') "
   ]
  },
  {
   "cell_type": "code",
   "execution_count": 20,
   "id": "a8fb75d3-287a-41cf-a38a-41350592b45f",
   "metadata": {},
   "outputs": [
    {
     "data": {
      "text/html": [
       "<div>\n",
       "<style scoped>\n",
       "    .dataframe tbody tr th:only-of-type {\n",
       "        vertical-align: middle;\n",
       "    }\n",
       "\n",
       "    .dataframe tbody tr th {\n",
       "        vertical-align: top;\n",
       "    }\n",
       "\n",
       "    .dataframe thead th {\n",
       "        text-align: right;\n",
       "    }\n",
       "</style>\n",
       "<table border=\"1\" class=\"dataframe\">\n",
       "  <thead>\n",
       "    <tr style=\"text-align: right;\">\n",
       "      <th></th>\n",
       "      <th>id</th>\n",
       "      <th>principal</th>\n",
       "      <th>compound_interest</th>\n",
       "      <th>accumation</th>\n",
       "    </tr>\n",
       "  </thead>\n",
       "  <tbody>\n",
       "    <tr>\n",
       "      <th>0</th>\n",
       "      <td>0</td>\n",
       "      <td>100</td>\n",
       "      <td>0.04</td>\n",
       "      <td>100</td>\n",
       "    </tr>\n",
       "  </tbody>\n",
       "</table>\n",
       "</div>"
      ],
      "text/plain": [
       "   id  principal  compound_interest  accumation\n",
       "0   0        100               0.04         100"
      ]
     },
     "execution_count": 20,
     "metadata": {},
     "output_type": "execute_result"
    }
   ],
   "source": [
    "df_principal"
   ]
  },
  {
   "cell_type": "code",
   "execution_count": 21,
   "id": "8cf29779-9f93-471c-968c-4b6b48ee06ed",
   "metadata": {},
   "outputs": [],
   "source": [
    "d_principal = df_principal['principal']  # 元本"
   ]
  },
  {
   "cell_type": "code",
   "execution_count": 22,
   "id": "37102c62-3114-48b0-a9d3-6fd1d11a9112",
   "metadata": {},
   "outputs": [],
   "source": [
    "d_compound_interest = df_principal['compound_interest']  # 利率"
   ]
  },
  {
   "cell_type": "code",
   "execution_count": 23,
   "id": "21f5cd28-c2ed-41ee-8564-e19d9ecfff0a",
   "metadata": {},
   "outputs": [],
   "source": [
    "d_accumation = df_principal['accumation']  # 積立"
   ]
  },
  {
   "cell_type": "code",
   "execution_count": 26,
   "id": "67dffc64-2694-493a-a212-1b344a363fbf",
   "metadata": {},
   "outputs": [],
   "source": [
    "total = d_principal*(1+d_compound_interest) + d_accumation"
   ]
  },
  {
   "cell_type": "code",
   "execution_count": 27,
   "id": "1f68b399-19d0-4c2b-8c0e-128467fbea0a",
   "metadata": {},
   "outputs": [
    {
     "name": "stdout",
     "output_type": "stream",
     "text": [
      "元本と複利の合計 0    204.0\n",
      "dtype: float64\n"
     ]
    }
   ],
   "source": [
    "print(\"元本と複利の合計\", total)"
   ]
  },
  {
   "cell_type": "code",
   "execution_count": 28,
   "id": "732b80f7-f07c-423e-983c-52332e402748",
   "metadata": {},
   "outputs": [],
   "source": [
    "\"\"\"\n",
    "将来価値fv=0とした場合の現在価値の計算\n",
    "npf.pv(rate, nper, pmt, fv)\n",
    "\"\"\"\n",
    "fv = npf.pv(rate=df['Rate'], nper=df['Nper'], pmt=df['Pmt'], fv=0)"
   ]
  },
  {
   "cell_type": "code",
   "execution_count": 29,
   "id": "5aae5845-8e05-4a60-98fe-31c31c3c998e",
   "metadata": {},
   "outputs": [
    {
     "name": "stdout",
     "output_type": "stream",
     "text": [
      "現在価値: fv0 [3232.28554105]\n"
     ]
    }
   ],
   "source": [
    "print(\"現在価値: fv0\", fv)"
   ]
  },
  {
   "cell_type": "code",
   "execution_count": null,
   "id": "c77912d4-2dbe-4e0f-a0b1-de7ab97b0f77",
   "metadata": {},
   "outputs": [],
   "source": []
  }
 ],
 "metadata": {
  "kernelspec": {
   "display_name": "Python 3 (ipykernel)",
   "language": "python",
   "name": "python3"
  },
  "language_info": {
   "codemirror_mode": {
    "name": "ipython",
    "version": 3
   },
   "file_extension": ".py",
   "mimetype": "text/x-python",
   "name": "python",
   "nbconvert_exporter": "python",
   "pygments_lexer": "ipython3",
   "version": "3.8.10"
  }
 },
 "nbformat": 4,
 "nbformat_minor": 5
}
