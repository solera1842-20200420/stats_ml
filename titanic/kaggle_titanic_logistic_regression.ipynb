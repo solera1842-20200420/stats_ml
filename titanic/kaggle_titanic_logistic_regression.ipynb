{
 "cells": [
  {
   "cell_type": "code",
   "execution_count": 1,
   "id": "6791e491-c612-4960-bf0b-523f23507bce",
   "metadata": {},
   "outputs": [],
   "source": [
    "# kaggle titanic\n",
    "import os\n",
    "import matplotlib.pyplot as plt\n",
    "import numpy as np\n",
    "import pandas as pd\n",
    "import plotly.express as px\n",
    "import seaborn as sns\n",
    "from sklearn.ensemble import RandomForestClassifier\n",
    "from sklearn.model_selection import GridSearchCV\n",
    "from sklearn.model_selection import train_test_split\n",
    "from sklearn.linear_model import LogisticRegression"
   ]
  },
  {
   "cell_type": "code",
   "execution_count": 2,
   "id": "ef457736-6112-48fa-a124-9d6b3748a125",
   "metadata": {},
   "outputs": [],
   "source": [
    "# dataset\n",
    "DATA_DIR = './data/'\n",
    "TRAIN_DATA = 'train.csv'\n",
    "TEST_DATA = 'test.csv'\n",
    "SUBMIT_DATA = 'gender_submission.csv'"
   ]
  },
  {
   "cell_type": "code",
   "execution_count": 3,
   "id": "c180f889-9476-4cd5-b8e7-41b3b3e5d9ee",
   "metadata": {},
   "outputs": [],
   "source": [
    "# load train data\n",
    "RAW_DATA = pd.read_csv(os.path.join(DATA_DIR, TRAIN_DATA))"
   ]
  },
  {
   "cell_type": "code",
   "execution_count": 4,
   "id": "f7e3964e-a264-4df2-b691-6d6e87b6583f",
   "metadata": {},
   "outputs": [],
   "source": [
    "data_test = pd.read_csv(os.path.join(DATA_DIR, TEST_DATA)) "
   ]
  },
  {
   "cell_type": "code",
   "execution_count": 5,
   "id": "444c3d5d-95ef-4bd2-bec3-8ca746d64d72",
   "metadata": {},
   "outputs": [],
   "source": [
    "data = RAW_DATA"
   ]
  },
  {
   "cell_type": "code",
   "execution_count": 6,
   "id": "390c7cb1-2db0-4ac8-a227-07c5e7c9b9ff",
   "metadata": {},
   "outputs": [],
   "source": [
    "# fillna\n",
    "data['Fare'] = data['Fare'].fillna(np.mean(data['Fare']), inplace=True)\n",
    "\n",
    "data.isnull().sum()\n",
    "\n",
    "# Objective variable and Explanatory variable\n",
    "y_1 = data['Survived']\n",
    "X_1 = data.drop(columns={'Survived', 'Name', 'Ticket', 'Embarked', 'Cabin'})\n",
    "from sklearn.preprocessing import LabelEncoder\n",
    "le = LabelEncoder()\n",
    "X_1_le = X_1\n",
    "Sex_le = le.fit_transform(X_1_le['Sex'])\n",
    "X_1['Sex'] = Sex_le\n",
    "X_1 = X_1.fillna(0)"
   ]
  },
  {
   "cell_type": "code",
   "execution_count": 7,
   "id": "cd286ac6-f6da-4ea1-8aab-8b091b0fe0df",
   "metadata": {},
   "outputs": [],
   "source": [
    "X_train1, X_test1, y_train, y_test = train_test_split(X_1, y_1, random_state=0, test_size=0.3)"
   ]
  },
  {
   "cell_type": "code",
   "execution_count": 8,
   "id": "92108d04-f28d-406b-8e5e-c9dcfb66a591",
   "metadata": {},
   "outputs": [],
   "source": [
    "# fillna\n",
    "data_test['Fare'] = data_test['Fare'].fillna(np.mean(data_test['Fare']), inplace=True)\n",
    "\n",
    "# Objective variable and Explanatory variable\n",
    "# y_1 = data['Survived']\n",
    "data_test = data_test.drop(columns={'Name', 'Ticket', 'Embarked', 'Cabin'})\n",
    "data_test_le = data_test\n",
    "data_test_sex_le = le.fit_transform(data_test_le['Sex'])\n",
    "data_test_le['Sex'] = data_test_sex_le\n",
    "data_test_le = data_test_le.fillna(0)\n",
    "data_predict = data_test_le"
   ]
  },
  {
   "cell_type": "code",
   "execution_count": 10,
   "id": "29d87b8e-b631-4225-bbc6-9b81766eb06e",
   "metadata": {},
   "outputs": [
    {
     "name": "stdout",
     "output_type": "stream",
     "text": [
      "Fitting 5 folds for each of 15 candidates, totalling 75 fits\n"
     ]
    },
    {
     "data": {
      "text/plain": [
       "{'C': 0.5, 'max_iter': 300}"
      ]
     },
     "execution_count": 10,
     "metadata": {},
     "output_type": "execute_result"
    }
   ],
   "source": [
    "# グリッドサーチ\n",
    "# param_grid = {'C':[0.1,1,10,100,1000], 'gamma': [1,0.1,0.001,0.0001,0.5]}\n",
    "param_grid = {'C': [0.01, 0.5, 1, 100, 500], 'max_iter': [300, 500, 1000]}\n",
    "grid = GridSearchCV(LogisticRegression(),param_grid, verbose=1)\n",
    "\n",
    "grid.fit(X_train1, y_train)\n",
    "\n",
    "grid.best_params_"
   ]
  },
  {
   "cell_type": "code",
   "execution_count": 11,
   "id": "615ff673-58cb-4676-b375-8699b1f2e68b",
   "metadata": {},
   "outputs": [],
   "source": [
    "# modeling\n",
    "# Logistic Regression2\n",
    "# lr1 = LogisticRegression(penalty='l2', solver='sag', random_state=0, max_iter=3000)\n",
    "lr3 = LogisticRegression(random_state=0, max_iter=300, C=0.5)"
   ]
  },
  {
   "cell_type": "code",
   "execution_count": 13,
   "id": "0b22f1df-dd10-4bf7-ac34-3c418057e055",
   "metadata": {},
   "outputs": [
    {
     "data": {
      "text/plain": [
       "(0.7929373996789727, 0.7929373996789727)"
      ]
     },
     "execution_count": 13,
     "metadata": {},
     "output_type": "execute_result"
    }
   ],
   "source": [
    "# 学習\n",
    "lr3.fit(X_train1, y_train)\n",
    "\n",
    "# 予測\n",
    "lr_pred03 = lr3.predict(data_predict)\n",
    "\n",
    "lr3.score(X_train1, y_train), lr3.score(X_train1, y_train)"
   ]
  },
  {
   "cell_type": "code",
   "execution_count": 35,
   "id": "98aff8c8-48e3-4803-a10e-5579a1ba3f7a",
   "metadata": {},
   "outputs": [
    {
     "name": "stderr",
     "output_type": "stream",
     "text": [
      "/data_01/script/script_python/.venv/lib/python3.8/site-packages/sklearn/linear_model/_logistic.py:763: ConvergenceWarning: lbfgs failed to converge (status=1):\n",
      "STOP: TOTAL NO. of ITERATIONS REACHED LIMIT.\n",
      "\n",
      "Increase the number of iterations (max_iter) or scale the data as shown in:\n",
      "    https://scikit-learn.org/stable/modules/preprocessing.html\n",
      "Please also refer to the documentation for alternative solver options:\n",
      "    https://scikit-learn.org/stable/modules/linear_model.html#logistic-regression\n",
      "  n_iter_i = _check_optimize_result(\n",
      "/data_01/script/script_python/.venv/lib/python3.8/site-packages/sklearn/linear_model/_logistic.py:763: ConvergenceWarning: lbfgs failed to converge (status=1):\n",
      "STOP: TOTAL NO. of ITERATIONS REACHED LIMIT.\n",
      "\n",
      "Increase the number of iterations (max_iter) or scale the data as shown in:\n",
      "    https://scikit-learn.org/stable/modules/preprocessing.html\n",
      "Please also refer to the documentation for alternative solver options:\n",
      "    https://scikit-learn.org/stable/modules/linear_model.html#logistic-regression\n",
      "  n_iter_i = _check_optimize_result(\n",
      "/data_01/script/script_python/.venv/lib/python3.8/site-packages/sklearn/linear_model/_logistic.py:763: ConvergenceWarning: lbfgs failed to converge (status=1):\n",
      "STOP: TOTAL NO. of ITERATIONS REACHED LIMIT.\n",
      "\n",
      "Increase the number of iterations (max_iter) or scale the data as shown in:\n",
      "    https://scikit-learn.org/stable/modules/preprocessing.html\n",
      "Please also refer to the documentation for alternative solver options:\n",
      "    https://scikit-learn.org/stable/modules/linear_model.html#logistic-regression\n",
      "  n_iter_i = _check_optimize_result(\n",
      "/data_01/script/script_python/.venv/lib/python3.8/site-packages/sklearn/linear_model/_logistic.py:763: ConvergenceWarning: lbfgs failed to converge (status=1):\n",
      "STOP: TOTAL NO. of ITERATIONS REACHED LIMIT.\n",
      "\n",
      "Increase the number of iterations (max_iter) or scale the data as shown in:\n",
      "    https://scikit-learn.org/stable/modules/preprocessing.html\n",
      "Please also refer to the documentation for alternative solver options:\n",
      "    https://scikit-learn.org/stable/modules/linear_model.html#logistic-regression\n",
      "  n_iter_i = _check_optimize_result(\n",
      "/data_01/script/script_python/.venv/lib/python3.8/site-packages/sklearn/linear_model/_logistic.py:763: ConvergenceWarning: lbfgs failed to converge (status=1):\n",
      "STOP: TOTAL NO. of ITERATIONS REACHED LIMIT.\n",
      "\n",
      "Increase the number of iterations (max_iter) or scale the data as shown in:\n",
      "    https://scikit-learn.org/stable/modules/preprocessing.html\n",
      "Please also refer to the documentation for alternative solver options:\n",
      "    https://scikit-learn.org/stable/modules/linear_model.html#logistic-regression\n",
      "  n_iter_i = _check_optimize_result(\n",
      "/data_01/script/script_python/.venv/lib/python3.8/site-packages/sklearn/linear_model/_logistic.py:763: ConvergenceWarning: lbfgs failed to converge (status=1):\n",
      "STOP: TOTAL NO. of ITERATIONS REACHED LIMIT.\n",
      "\n",
      "Increase the number of iterations (max_iter) or scale the data as shown in:\n",
      "    https://scikit-learn.org/stable/modules/preprocessing.html\n",
      "Please also refer to the documentation for alternative solver options:\n",
      "    https://scikit-learn.org/stable/modules/linear_model.html#logistic-regression\n",
      "  n_iter_i = _check_optimize_result(\n",
      "/data_01/script/script_python/.venv/lib/python3.8/site-packages/sklearn/linear_model/_logistic.py:763: ConvergenceWarning: lbfgs failed to converge (status=1):\n",
      "STOP: TOTAL NO. of ITERATIONS REACHED LIMIT.\n",
      "\n",
      "Increase the number of iterations (max_iter) or scale the data as shown in:\n",
      "    https://scikit-learn.org/stable/modules/preprocessing.html\n",
      "Please also refer to the documentation for alternative solver options:\n",
      "    https://scikit-learn.org/stable/modules/linear_model.html#logistic-regression\n",
      "  n_iter_i = _check_optimize_result(\n",
      "/data_01/script/script_python/.venv/lib/python3.8/site-packages/sklearn/linear_model/_logistic.py:763: ConvergenceWarning: lbfgs failed to converge (status=1):\n",
      "STOP: TOTAL NO. of ITERATIONS REACHED LIMIT.\n",
      "\n",
      "Increase the number of iterations (max_iter) or scale the data as shown in:\n",
      "    https://scikit-learn.org/stable/modules/preprocessing.html\n",
      "Please also refer to the documentation for alternative solver options:\n",
      "    https://scikit-learn.org/stable/modules/linear_model.html#logistic-regression\n",
      "  n_iter_i = _check_optimize_result(\n",
      "/data_01/script/script_python/.venv/lib/python3.8/site-packages/sklearn/linear_model/_logistic.py:763: ConvergenceWarning: lbfgs failed to converge (status=1):\n",
      "STOP: TOTAL NO. of ITERATIONS REACHED LIMIT.\n",
      "\n",
      "Increase the number of iterations (max_iter) or scale the data as shown in:\n",
      "    https://scikit-learn.org/stable/modules/preprocessing.html\n",
      "Please also refer to the documentation for alternative solver options:\n",
      "    https://scikit-learn.org/stable/modules/linear_model.html#logistic-regression\n",
      "  n_iter_i = _check_optimize_result(\n"
     ]
    },
    {
     "name": "stdout",
     "output_type": "stream",
     "text": [
      "Test set score: 0.8012820512820513\n",
      "Best parameters: {'C': 0.5, 'max_iter': 300}\n",
      "Best cross-validation: 0.7817890642873484\n"
     ]
    }
   ],
   "source": [
    "# GridsearchCV\n",
    "# パラメータを dict 型で指定\n",
    "param_grid = {'max_iter' : [100, 300], 'C': [0.5, 0.6]}\n",
    "\n",
    "# validation set は GridSearchCV が自動で作成してくれるため，\n",
    "# training set と test set の分割のみを実行すればよい\n",
    "X_train2, X_test2, y_train2, y_test2 = train_test_split(X_train1, y_train, random_state=0)\n",
    "\n",
    "grid_search = GridSearchCV(LogisticRegression(), param_grid, cv=5)\n",
    "\n",
    "# fit 関数を呼ぶことで交差検証とグリッドサーチがどちらも実行される\n",
    "grid_search.fit(X_train2, y_train2)\n",
    "\n",
    "print('Test set score: {}'.format(grid_search.score(X_test2, y_test2)))\n",
    "print('Best parameters: {}'.format(grid_search.best_params_))\n",
    "print('Best cross-validation: {}'.format(grid_search.best_score_))"
   ]
  },
  {
   "cell_type": "code",
   "execution_count": 37,
   "id": "04a9cb90-700b-45ca-b198-9d260fc8533f",
   "metadata": {},
   "outputs": [],
   "source": [
    "lr4 = LogisticRegression(random_state=0, C=0.5, max_iter=300)\n",
    "\n",
    "# 学習\n",
    "lr4.fit(X_train2, y_train2)\n",
    "\n",
    "# 予測\n",
    "lr_pred04 = lr4.predict(data_predict)\n",
    "\n",
    "print(lr4.score(X_train2, y_train2))"
   ]
  },
  {
   "cell_type": "code",
   "execution_count": 43,
   "id": "e3f342e8-2c14-4481-be71-c6ca7bc868ff",
   "metadata": {},
   "outputs": [
    {
     "data": {
      "text/plain": [
       "0.8008565310492506"
      ]
     },
     "execution_count": 43,
     "metadata": {},
     "output_type": "execute_result"
    }
   ],
   "source": [
    "lr4.score(X_train2, y_train2)"
   ]
  },
  {
   "cell_type": "code",
   "execution_count": 39,
   "id": "26e31251-67f4-455b-ac58-7e93d3e856da",
   "metadata": {},
   "outputs": [],
   "source": [
    "data_submit = pd.read_csv(os.path.join(DATA_DIR, SUBMIT_DATA))"
   ]
  },
  {
   "cell_type": "code",
   "execution_count": 40,
   "id": "d85969a5-4964-4deb-b9bf-11ef560caa10",
   "metadata": {},
   "outputs": [],
   "source": [
    "# 提出用ファイルに予測結果を連結\n",
    "data_submit['Survived'] = lr_pred04"
   ]
  },
  {
   "cell_type": "code",
   "execution_count": 22,
   "id": "cd05e693-f680-4832-abce-92b51f0e7b3c",
   "metadata": {},
   "outputs": [
    {
     "data": {
      "text/plain": [
       "(418, 2)"
      ]
     },
     "execution_count": 22,
     "metadata": {},
     "output_type": "execute_result"
    }
   ],
   "source": [
    "# data_submit.shape"
   ]
  },
  {
   "cell_type": "code",
   "execution_count": 41,
   "id": "31310817-6dbe-441c-8497-a84043e55fba",
   "metadata": {},
   "outputs": [
    {
     "data": {
      "text/html": [
       "<div>\n",
       "<style scoped>\n",
       "    .dataframe tbody tr th:only-of-type {\n",
       "        vertical-align: middle;\n",
       "    }\n",
       "\n",
       "    .dataframe tbody tr th {\n",
       "        vertical-align: top;\n",
       "    }\n",
       "\n",
       "    .dataframe thead th {\n",
       "        text-align: right;\n",
       "    }\n",
       "</style>\n",
       "<table border=\"1\" class=\"dataframe\">\n",
       "  <thead>\n",
       "    <tr style=\"text-align: right;\">\n",
       "      <th></th>\n",
       "      <th>PassengerId</th>\n",
       "      <th>Survived</th>\n",
       "    </tr>\n",
       "  </thead>\n",
       "  <tbody>\n",
       "    <tr>\n",
       "      <th>0</th>\n",
       "      <td>892</td>\n",
       "      <td>0</td>\n",
       "    </tr>\n",
       "    <tr>\n",
       "      <th>1</th>\n",
       "      <td>893</td>\n",
       "      <td>0</td>\n",
       "    </tr>\n",
       "    <tr>\n",
       "      <th>2</th>\n",
       "      <td>894</td>\n",
       "      <td>0</td>\n",
       "    </tr>\n",
       "    <tr>\n",
       "      <th>3</th>\n",
       "      <td>895</td>\n",
       "      <td>0</td>\n",
       "    </tr>\n",
       "    <tr>\n",
       "      <th>4</th>\n",
       "      <td>896</td>\n",
       "      <td>1</td>\n",
       "    </tr>\n",
       "    <tr>\n",
       "      <th>...</th>\n",
       "      <td>...</td>\n",
       "      <td>...</td>\n",
       "    </tr>\n",
       "    <tr>\n",
       "      <th>413</th>\n",
       "      <td>1305</td>\n",
       "      <td>0</td>\n",
       "    </tr>\n",
       "    <tr>\n",
       "      <th>414</th>\n",
       "      <td>1306</td>\n",
       "      <td>1</td>\n",
       "    </tr>\n",
       "    <tr>\n",
       "      <th>415</th>\n",
       "      <td>1307</td>\n",
       "      <td>0</td>\n",
       "    </tr>\n",
       "    <tr>\n",
       "      <th>416</th>\n",
       "      <td>1308</td>\n",
       "      <td>0</td>\n",
       "    </tr>\n",
       "    <tr>\n",
       "      <th>417</th>\n",
       "      <td>1309</td>\n",
       "      <td>0</td>\n",
       "    </tr>\n",
       "  </tbody>\n",
       "</table>\n",
       "<p>418 rows × 2 columns</p>\n",
       "</div>"
      ],
      "text/plain": [
       "     PassengerId  Survived\n",
       "0            892         0\n",
       "1            893         0\n",
       "2            894         0\n",
       "3            895         0\n",
       "4            896         1\n",
       "..           ...       ...\n",
       "413         1305         0\n",
       "414         1306         1\n",
       "415         1307         0\n",
       "416         1308         0\n",
       "417         1309         0\n",
       "\n",
       "[418 rows x 2 columns]"
      ]
     },
     "execution_count": 41,
     "metadata": {},
     "output_type": "execute_result"
    }
   ],
   "source": [
    "data_submit"
   ]
  },
  {
   "cell_type": "code",
   "execution_count": 42,
   "id": "27d57aed-4b7b-4ccf-80a0-3756421b3cfb",
   "metadata": {},
   "outputs": [],
   "source": [
    "# write csv\n",
    "data_submit.to_csv(os.path.join(DATA_DIR, 'submission_lr04.csv'), index=False)"
   ]
  },
  {
   "cell_type": "code",
   "execution_count": null,
   "id": "7a66ba20-9283-45ad-8eab-c457188c296c",
   "metadata": {},
   "outputs": [],
   "source": []
  }
 ],
 "metadata": {
  "kernelspec": {
   "display_name": "Python 3",
   "language": "python",
   "name": "python3"
  },
  "language_info": {
   "codemirror_mode": {
    "name": "ipython",
    "version": 3
   },
   "file_extension": ".py",
   "mimetype": "text/x-python",
   "name": "python",
   "nbconvert_exporter": "python",
   "pygments_lexer": "ipython3",
   "version": "3.8.5"
  }
 },
 "nbformat": 4,
 "nbformat_minor": 5
}
